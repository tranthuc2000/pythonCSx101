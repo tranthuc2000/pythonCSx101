{
  "nbformat": 4,
  "nbformat_minor": 0,
  "metadata": {
    "colab": {
      "name": "CSx101.Lab2-2.ipynb",
      "provenance": [],
      "include_colab_link": true
    },
    "kernelspec": {
      "name": "python3",
      "display_name": "Python 3"
    }
  },
  "cells": [
    {
      "cell_type": "markdown",
      "metadata": {
        "id": "view-in-github",
        "colab_type": "text"
      },
      "source": [
        "<a href=\"https://colab.research.google.com/github/tranthuc2000/pythonCSx101/blob/main/CSx101_Lab2_2.ipynb\" target=\"_parent\"><img src=\"https://colab.research.google.com/assets/colab-badge.svg\" alt=\"Open In Colab\"/></a>"
      ]
    },
    {
      "cell_type": "markdown",
      "metadata": {
        "id": "qYjoagGcuYmq"
      },
      "source": [
        "# CSx101 - TƯ DUY LẬP TRÌNH VỚI PYTHON\n",
        "\n",
        "Lớp CSx101-A1"
      ]
    },
    {
      "cell_type": "markdown",
      "metadata": {
        "id": "9CUHdHZe1Q2F"
      },
      "source": [
        "## Số lớn nhất\n",
        "\n",
        "Viết hàm tính số lớn nhất của 2 hai số"
      ]
    },
    {
      "cell_type": "code",
      "metadata": {
        "id": "Rk-3yHVazWf6",
        "outputId": "b4c3ddfa-6c45-4fb1-d4a4-a9d3739deb23",
        "colab": {
          "base_uri": "https://localhost:8080/"
        }
      },
      "source": [
        "def calMax(a, b):\n",
        "  return a if a>b else b\n",
        "  \n",
        "a = 5\n",
        "b = 5.01\n",
        "\n",
        "max2 = calMax(a, b)\n",
        "print(max2)\n",
        "\n",
        "# Kết quả 5.01"
      ],
      "execution_count": 1,
      "outputs": [
        {
          "output_type": "stream",
          "name": "stdout",
          "text": [
            "5.01\n"
          ]
        }
      ]
    },
    {
      "cell_type": "markdown",
      "metadata": {
        "id": "nmHh7xWnhhp_"
      },
      "source": [
        "## Giai thừa\n",
        "\n",
        "Viết hàm tính giai thừa của $n$\n",
        "\n",
        "$n! = n*(n-1)*(n-2)*...*1$"
      ]
    },
    {
      "cell_type": "code",
      "metadata": {
        "id": "QfjAATq7zZLY",
        "outputId": "6a270c4c-9fd1-476a-898c-c3369fd3ca17",
        "colab": {
          "base_uri": "https://localhost:8080/"
        }
      },
      "source": [
        "def calFactorial(n):\n",
        "  if(n==0 or n==1):\n",
        "    return 1\n",
        "  return(calFactorial(n-1)*n)\n",
        "\n",
        "n = 5\n",
        "result = calFactorial(n)\n",
        "print(result)\n",
        "\n",
        "# Kết quả 120"
      ],
      "execution_count": 4,
      "outputs": [
        {
          "output_type": "stream",
          "name": "stdout",
          "text": [
            "120\n"
          ]
        }
      ]
    },
    {
      "cell_type": "markdown",
      "metadata": {
        "id": "leCn2xFwubkR"
      },
      "source": [
        "## Số Amstrong\n",
        "Viết hàm trả về số $x$ có phải là số Amstrong hay không. \n",
        "\n",
        "Số nguyên dương có $n$ chữ số là số  Armstrong bậc $n$ nếu:\n",
        "\n",
        "$abcd... = pow(a,n) + pow(b,n) + pow(c,n) + pow(d,n) + .... $\n",
        "\n",
        "Ví dụ: 153 là số Amstrong vì $n=3$ và \n",
        "\n",
        "$1*1*1 + 5*5*5 + 3*3*3 = 153$"
      ]
    },
    {
      "cell_type": "code",
      "metadata": {
        "id": "N2uyMnza1Bkc",
        "outputId": "771b0ab9-3140-4700-9759-4d18a13c1d22",
        "colab": {
          "base_uri": "https://localhost:8080/"
        }
      },
      "source": [
        "def calN(n):\n",
        "  i=0\n",
        "  while(n>0):\n",
        "    n=n//10\n",
        "    i+=1\n",
        "  return i\n",
        "def checkAmstrongNumber(x):\n",
        "  n=calN(x)\n",
        "  T=0\n",
        "  temp=x\n",
        "  while(temp>0):\n",
        "    T+=(temp%10)**n\n",
        "    temp=temp//10\n",
        "  return(True if T==x else False)\n",
        "\n",
        "\n",
        "x = 153\n",
        "result = checkAmstrongNumber(x)\n",
        "print(result)\n",
        "\n",
        "\n",
        "# Kết quả True"
      ],
      "execution_count": 10,
      "outputs": [
        {
          "output_type": "stream",
          "name": "stdout",
          "text": [
            "True\n"
          ]
        }
      ]
    },
    {
      "cell_type": "markdown",
      "metadata": {
        "id": "mbBv-k2SkFVK"
      },
      "source": [
        "## Số nguyên tố\n",
        "\n",
        "Viết hàm kiểm tra một số nguyên dương $n$ có phải là số nguyên tố hay không.\n",
        "\n",
        "Số nguyên tố là số lớn hơn 1 và không có ước số nào ngoài 1 và chính nó. Ví dụ: {2, 3, 5, 7, 11, ….}."
      ]
    },
    {
      "cell_type": "code",
      "metadata": {
        "id": "oz59rx9g1Fx6",
        "outputId": "d422cec0-c85a-418a-dff4-80752357d3f7",
        "colab": {
          "base_uri": "https://localhost:8080/"
        }
      },
      "source": [
        "import math\n",
        "def checkPrimeNumber(n):\n",
        "   if(n<=3):\n",
        "     return True\n",
        "   i=4\n",
        "   while(i<=math.sqrt(n)):\n",
        "      if(n%i==0):\n",
        "        return False\n",
        "        i+=1\n",
        "   return True\n",
        "\n",
        "\n",
        "n = 7\n",
        "result = checkPrimeNumber(n)\n",
        "print(result) \n",
        "\n",
        "# Kết quả True"
      ],
      "execution_count": 13,
      "outputs": [
        {
          "output_type": "stream",
          "name": "stdout",
          "text": [
            "True\n"
          ]
        }
      ]
    },
    {
      "cell_type": "markdown",
      "metadata": {
        "id": "CMIVvurg2OiU"
      },
      "source": [
        "## Số Fibonaci\n",
        "\n",
        "Viết hàm tính số Fibonaci $F_n$\n",
        "\n",
        "Công thức tính số Fibonaci\n",
        "$F_n = F_{n-1} + F_{n-2}$\n",
        "\n",
        "$F_0 = 0$\n",
        "\n",
        "$F_1 = 1$"
      ]
    },
    {
      "cell_type": "code",
      "metadata": {
        "id": "-3ZMFj3r2TgX",
        "colab": {
          "base_uri": "https://localhost:8080/"
        },
        "outputId": "e8ce2dcf-152f-466d-bed5-e4148ef92646"
      },
      "source": [
        "def calFibonaci(n):\n",
        "  if(n==0 or n==1):\n",
        "    return n\n",
        "  n=(calFibonaci(n-1)+calFibonaci(n-2))\n",
        "n = 2\n",
        "result = calFibonaci(n)\n",
        "print(result) \n",
        "\n",
        "# Kết quả 1"
      ],
      "execution_count": 14,
      "outputs": [
        {
          "output_type": "stream",
          "name": "stdout",
          "text": [
            "1\n"
          ]
        }
      ]
    },
    {
      "cell_type": "markdown",
      "metadata": {
        "id": "cCyfKs0q4h-X"
      },
      "source": [
        "## Kiểm tra một số có phải là số Fibonaci hay không\n",
        "\n",
        "Viết hàm kiểm tra một số $n$ có phải là số Fibonaci hay không.\n",
        "\n",
        "Các số sau là số Fibonaci: 0, 1, 1, 2, 3, 5, 8, 13, 21, 34, 55, 89, 144,\n",
        "\n",
        "Gợi ý: A number is Fibonacci if and only if one or both of $(5*n2 + 4)$ or $(5*n2 – 4)$ is a perfect square"
      ]
    },
    {
      "cell_type": "code",
      "metadata": {
        "id": "1pfCY9w04nCN",
        "outputId": "ffb8c2d8-f8ae-49c7-e580-022a0150d46a",
        "colab": {
          "base_uri": "https://localhost:8080/"
        }
      },
      "source": [
        "import math\n",
        "def checkFibonaciNumber(n):\n",
        "  if(checkPerfectSquare(5*n**2+4)==True or checkPerfectSquare(5*n**2-4)==True):\n",
        "    return True\n",
        "  return False\n",
        "def checkPerfectSquare(n):\n",
        "  return(True if(int(math.sqrt(n))==math.sqrt(n)) else False)\n",
        "n = 21\n",
        "result = checkFibonaciNumber(n)\n",
        "print(result) \n",
        "\n",
        "# Kết quả True"
      ],
      "execution_count": 20,
      "outputs": [
        {
          "output_type": "stream",
          "name": "stdout",
          "text": [
            "True\n"
          ]
        }
      ]
    },
    {
      "cell_type": "markdown",
      "metadata": {
        "id": "IQX-kblX6FFL"
      },
      "source": [
        "## Tổng $1^2 + 2^2 + 3^2 + …+ n^2$\n",
        "\n",
        "Viết hàm tính tổng trên "
      ]
    },
    {
      "cell_type": "code",
      "metadata": {
        "id": "9-pRgu5w6P3w",
        "colab": {
          "base_uri": "https://localhost:8080/"
        },
        "outputId": "c4260252-c5a6-4a26-c0b9-acb53b8ce3ed"
      },
      "source": [
        "def calSquareSum(n):\n",
        "  if(n==1):\n",
        "    return 1\n",
        "  return(calSquareSum(n-1)+n*n)\n",
        "\n",
        "n = 2\n",
        "result = calSquareSum(n)\n",
        "print(result) \n",
        "\n",
        "# Kết quả 5"
      ],
      "execution_count": 16,
      "outputs": [
        {
          "output_type": "stream",
          "name": "stdout",
          "text": [
            "5\n"
          ]
        }
      ]
    }
  ]
}