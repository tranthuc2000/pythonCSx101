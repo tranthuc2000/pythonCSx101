{
  "nbformat": 4,
  "nbformat_minor": 0,
  "metadata": {
    "colab": {
      "name": "CSx101.Lab2-3.ipynb",
      "provenance": [],
      "include_colab_link": true
    },
    "kernelspec": {
      "name": "python3",
      "display_name": "Python 3"
    }
  },
  "cells": [
    {
      "cell_type": "markdown",
      "metadata": {
        "id": "view-in-github",
        "colab_type": "text"
      },
      "source": [
        "<a href=\"https://colab.research.google.com/github/tranthuc2000/pythonCSx101/blob/main/CSx101_Lab2_3.ipynb\" target=\"_parent\"><img src=\"https://colab.research.google.com/assets/colab-badge.svg\" alt=\"Open In Colab\"/></a>"
      ]
    },
    {
      "cell_type": "markdown",
      "metadata": {
        "id": "qYjoagGcuYmq"
      },
      "source": [
        "# CSx101 - TƯ DUY LẬP TRÌNH VỚI PYTHON\n",
        "\n",
        "Lớp CSx101-A1"
      ]
    },
    {
      "cell_type": "markdown",
      "metadata": {
        "id": "9CUHdHZe1Q2F"
      },
      "source": [
        "## Số lớn nhất - nhỏ nhất của dãy số\n",
        "\n",
        "Viết hàm trả về số lớn nhất, và số nhỏ nhất của một dãy số"
      ]
    },
    {
      "cell_type": "code",
      "metadata": {
        "id": "Rk-3yHVazWf6",
        "outputId": "3c662a8e-1e3a-404a-c43b-67cf13ddfc90",
        "colab": {
          "base_uri": "https://localhost:8080/"
        }
      },
      "source": [
        "def findMinMax(arr):\n",
        "  min=arr[0]\n",
        "  max=arr[0]\n",
        "  for i in arr:\n",
        "    if(i<min):\n",
        "      min=i\n",
        "    if(i>max):\n",
        "      max=i\n",
        "  return(min, max)\n",
        "\n",
        "  \n",
        "\n",
        "arr = [2, 3, 4, 6]\n",
        "\n",
        "min, max = findMinMax(arr)\n",
        "print(min)\n",
        "print(max)\n",
        "\n",
        "# Kết quả "
      ],
      "execution_count": 4,
      "outputs": [
        {
          "output_type": "stream",
          "name": "stdout",
          "text": [
            "2\n",
            "7\n"
          ]
        }
      ]
    },
    {
      "cell_type": "markdown",
      "metadata": {
        "id": "nmHh7xWnhhp_"
      },
      "source": [
        "## Hoán đổi vị trí phần tử đầu và phần cuối của một dãy số\n",
        "\n",
        "Viết hoán đổi phần tử đầu và phần tử cuối của một dãy số\n",
        "\n",
        "Ví dụ:\n",
        "* Input: 1 2 3 4 5\n",
        "* Output: 5 2 3 4 1"
      ]
    },
    {
      "cell_type": "code",
      "metadata": {
        "id": "QfjAATq7zZLY",
        "outputId": "9003dac7-baf1-48ba-9f17-4419737d2625",
        "colab": {
          "base_uri": "https://localhost:8080/"
        }
      },
      "source": [
        "def swapList(arr):\n",
        "  arr[0], arr[len(arr)-1] = arr[len(arr)-1], arr[0]\n",
        "arr=[1, 2, 3, 4, 5]\n",
        "swapList(arr)\n",
        "print(arr)\n",
        "\n"
      ],
      "execution_count": 8,
      "outputs": [
        {
          "output_type": "stream",
          "name": "stdout",
          "text": [
            "[5, 2, 3, 4, 1]\n"
          ]
        }
      ]
    },
    {
      "cell_type": "markdown",
      "metadata": {
        "id": "leCn2xFwubkR"
      },
      "source": [
        "## Kiểm tra một phần tử có trong dãy số \n",
        "\n",
        "Viết hàm kiểm tra một phần tử có trong dãy số cho trước hay không\n",
        "\n",
        "Ví dụ:\n",
        "* Input: dãy số 1, 2, 3, 4, 5 và phần tử cần kiểm tra là 9\n",
        "* Output: False"
      ]
    },
    {
      "cell_type": "code",
      "metadata": {
        "id": "N2uyMnza1Bkc"
      },
      "source": [
        "def checkNumberExist(x, arr):\n",
        "  for i in arr:\n",
        "    if(x==i):\n",
        "      return True\n",
        "    return False\n"
      ],
      "execution_count": 9,
      "outputs": []
    },
    {
      "cell_type": "markdown",
      "metadata": {
        "id": "mbBv-k2SkFVK"
      },
      "source": [
        "## Đảo ngược dãy số\n",
        "\n",
        "Viết hàm đảo ngược một dãy số\n",
        "\n",
        "Ví dụ: \n",
        "* Input: 1, 2, 3, 4, 5\n",
        "* Output: 5, 4, 3, 2, 1"
      ]
    },
    {
      "cell_type": "code",
      "metadata": {
        "id": "oz59rx9g1Fx6",
        "outputId": "c89822ae-6078-4fc2-a6cc-9a75f8fb35f4",
        "colab": {
          "base_uri": "https://localhost:8080/"
        }
      },
      "source": [
        "def reverseList(arr):\n",
        "  return arr[::-1]\n",
        "\n",
        "\n",
        "arr=[1, 2, 3, 4, 5]\n",
        "arr=reverseList(arr)\n",
        "print(arr)"
      ],
      "execution_count": 13,
      "outputs": [
        {
          "output_type": "stream",
          "name": "stdout",
          "text": [
            "[5, 4, 3, 2, 1]\n"
          ]
        }
      ]
    },
    {
      "cell_type": "markdown",
      "metadata": {
        "id": "CMIVvurg2OiU"
      },
      "source": [
        "## Số nguyên tố của dãy số\n",
        "\n",
        "Viết hàm trả về các số nguyên tố của một dãy số\n",
        "\n",
        "Ví dụ:\n",
        "* Input: 3, 7, 11, 12, 15\n",
        "* Output: 3, 7, 11"
      ]
    },
    {
      "cell_type": "code",
      "metadata": {
        "id": "-3ZMFj3r2TgX",
        "outputId": "7a437f1d-ae6b-4967-da40-59a72b0e437b",
        "colab": {
          "base_uri": "https://localhost:8080/"
        }
      },
      "source": [
        "\n",
        "def checkPrimeNumber(n):\n",
        "  if(n<1):\n",
        "    return False\n",
        "  for i in range(2,n//2+1):\n",
        "    if(n%i==0):\n",
        "      return False\n",
        "  return True\n",
        "def findPrimeNumbers(arr):\n",
        "  for i in arr:\n",
        "    if(checkPrimeNumber(i)==True):\n",
        "      print(i)\n",
        "arr=[1,9,2,4,3,2,4,34,4,3,35,37,39]\n",
        "findPrimeNumbers(arr)\n"
      ],
      "execution_count": 28,
      "outputs": [
        {
          "output_type": "stream",
          "name": "stdout",
          "text": [
            "1\n",
            "2\n",
            "3\n",
            "2\n",
            "3\n",
            "37\n"
          ]
        }
      ]
    },
    {
      "cell_type": "markdown",
      "metadata": {
        "id": "cCyfKs0q4h-X"
      },
      "source": [
        "## Đếm số lần xuất hiện của một phần tử trong dãy số\n",
        "\n",
        "Viết hàm đếm số lần xuất hiện của một phần tử trong dãy số\n",
        "\n",
        "Ví dụ:\n",
        "* Input: 1, 2, 4, 2, 6, 2, 5, 2 và 2\n",
        "* Output: 4 (số 2 xuất hiện 4 lần trong dãy số trên)\n"
      ]
    },
    {
      "cell_type": "code",
      "metadata": {
        "id": "1pfCY9w04nCN",
        "outputId": "201a8f6a-f50b-4905-ef4b-04de54c2e6a6",
        "colab": {
          "base_uri": "https://localhost:8080/"
        }
      },
      "source": [
        "def countOccurences(x, arr):\n",
        "  temp=0\n",
        "  for i in arr:\n",
        "    if(x==i):\n",
        "      temp+=1\n",
        "  return temp\n",
        "arr=[1,9,2,4,3,2,4,34,4,3,35,37,39]\n",
        "print(countOccurences(4,arr))\n"
      ],
      "execution_count": 32,
      "outputs": [
        {
          "output_type": "stream",
          "name": "stdout",
          "text": [
            "3\n"
          ]
        }
      ]
    },
    {
      "cell_type": "markdown",
      "metadata": {
        "id": "IQX-kblX6FFL"
      },
      "source": [
        "## Loại bỏ các phần tử trùng\n",
        "\n",
        "Viết hàm loại bỏ các phần tử trùng của một dãy cho trước. Dãy trả về bao gồm các phần tử chỉ xuất hiện một lần\n",
        "\n",
        "* Input: 10, 20, 30, 20, 20, 30, 40, 50, -20, 60, 60, -20, -20\n",
        "* Output: 10, 20, 30, 40, 50, -20, 60\n"
      ]
    },
    {
      "cell_type": "code",
      "metadata": {
        "id": "9-pRgu5w6P3w",
        "outputId": "1927edbe-8efa-4be4-8647-2a4d4245aff8",
        "colab": {
          "base_uri": "https://localhost:8080/",
          "height": 319
        }
      },
      "source": [
        "def removeDuplicates(n):\n",
        "  len\n",
        "  for i in range(len(n)-1):\n",
        "    for j in range(i+1,len(n)):\n",
        "      if(n[i]==n[j]):\n",
        "        n.remove(n[j])\n",
        "  return n\n",
        "arr=[1,9,2,4,3,2,4,34,4,3,35,37,39]\n",
        "print(removeDuplicates(arr))\n"
      ],
      "execution_count": 36,
      "outputs": [
        {
          "output_type": "error",
          "ename": "IndexError",
          "evalue": "ignored",
          "traceback": [
            "\u001b[0;31m---------------------------------------------------------------------------\u001b[0m",
            "\u001b[0;31mIndexError\u001b[0m                                Traceback (most recent call last)",
            "\u001b[0;32m<ipython-input-36-dcba42ab8db5>\u001b[0m in \u001b[0;36m<module>\u001b[0;34m()\u001b[0m\n\u001b[1;32m      6\u001b[0m   \u001b[0;32mreturn\u001b[0m \u001b[0mn\u001b[0m\u001b[0;34m\u001b[0m\u001b[0;34m\u001b[0m\u001b[0m\n\u001b[1;32m      7\u001b[0m \u001b[0marr\u001b[0m\u001b[0;34m=\u001b[0m\u001b[0;34m[\u001b[0m\u001b[0;36m1\u001b[0m\u001b[0;34m,\u001b[0m\u001b[0;36m9\u001b[0m\u001b[0;34m,\u001b[0m\u001b[0;36m2\u001b[0m\u001b[0;34m,\u001b[0m\u001b[0;36m4\u001b[0m\u001b[0;34m,\u001b[0m\u001b[0;36m3\u001b[0m\u001b[0;34m,\u001b[0m\u001b[0;36m2\u001b[0m\u001b[0;34m,\u001b[0m\u001b[0;36m4\u001b[0m\u001b[0;34m,\u001b[0m\u001b[0;36m34\u001b[0m\u001b[0;34m,\u001b[0m\u001b[0;36m4\u001b[0m\u001b[0;34m,\u001b[0m\u001b[0;36m3\u001b[0m\u001b[0;34m,\u001b[0m\u001b[0;36m35\u001b[0m\u001b[0;34m,\u001b[0m\u001b[0;36m37\u001b[0m\u001b[0;34m,\u001b[0m\u001b[0;36m39\u001b[0m\u001b[0;34m]\u001b[0m\u001b[0;34m\u001b[0m\u001b[0;34m\u001b[0m\u001b[0m\n\u001b[0;32m----> 8\u001b[0;31m \u001b[0mprint\u001b[0m\u001b[0;34m(\u001b[0m\u001b[0mremoveDuplicates\u001b[0m\u001b[0;34m(\u001b[0m\u001b[0marr\u001b[0m\u001b[0;34m)\u001b[0m\u001b[0;34m)\u001b[0m\u001b[0;34m\u001b[0m\u001b[0;34m\u001b[0m\u001b[0m\n\u001b[0m",
            "\u001b[0;32m<ipython-input-36-dcba42ab8db5>\u001b[0m in \u001b[0;36mremoveDuplicates\u001b[0;34m(n)\u001b[0m\n\u001b[1;32m      2\u001b[0m   \u001b[0;32mfor\u001b[0m \u001b[0mi\u001b[0m \u001b[0;32min\u001b[0m \u001b[0mrange\u001b[0m\u001b[0;34m(\u001b[0m\u001b[0mlen\u001b[0m\u001b[0;34m(\u001b[0m\u001b[0mn\u001b[0m\u001b[0;34m)\u001b[0m\u001b[0;34m-\u001b[0m\u001b[0;36m1\u001b[0m\u001b[0;34m)\u001b[0m\u001b[0;34m:\u001b[0m\u001b[0;34m\u001b[0m\u001b[0;34m\u001b[0m\u001b[0m\n\u001b[1;32m      3\u001b[0m     \u001b[0;32mfor\u001b[0m \u001b[0mj\u001b[0m \u001b[0;32min\u001b[0m \u001b[0mrange\u001b[0m\u001b[0;34m(\u001b[0m\u001b[0mi\u001b[0m\u001b[0;34m+\u001b[0m\u001b[0;36m1\u001b[0m\u001b[0;34m,\u001b[0m\u001b[0mlen\u001b[0m\u001b[0;34m(\u001b[0m\u001b[0mn\u001b[0m\u001b[0;34m)\u001b[0m\u001b[0;34m)\u001b[0m\u001b[0;34m:\u001b[0m\u001b[0;34m\u001b[0m\u001b[0;34m\u001b[0m\u001b[0m\n\u001b[0;32m----> 4\u001b[0;31m       \u001b[0;32mif\u001b[0m\u001b[0;34m(\u001b[0m\u001b[0mn\u001b[0m\u001b[0;34m[\u001b[0m\u001b[0mi\u001b[0m\u001b[0;34m]\u001b[0m\u001b[0;34m==\u001b[0m\u001b[0mn\u001b[0m\u001b[0;34m[\u001b[0m\u001b[0mj\u001b[0m\u001b[0;34m]\u001b[0m\u001b[0;34m)\u001b[0m\u001b[0;34m:\u001b[0m\u001b[0;34m\u001b[0m\u001b[0;34m\u001b[0m\u001b[0m\n\u001b[0m\u001b[1;32m      5\u001b[0m         \u001b[0mn\u001b[0m\u001b[0;34m.\u001b[0m\u001b[0mremove\u001b[0m\u001b[0;34m(\u001b[0m\u001b[0mn\u001b[0m\u001b[0;34m[\u001b[0m\u001b[0mj\u001b[0m\u001b[0;34m]\u001b[0m\u001b[0;34m)\u001b[0m\u001b[0;34m\u001b[0m\u001b[0;34m\u001b[0m\u001b[0m\n\u001b[1;32m      6\u001b[0m   \u001b[0;32mreturn\u001b[0m \u001b[0mn\u001b[0m\u001b[0;34m\u001b[0m\u001b[0;34m\u001b[0m\u001b[0m\n",
            "\u001b[0;31mIndexError\u001b[0m: list index out of range"
          ]
        }
      ]
    },
    {
      "cell_type": "markdown",
      "metadata": {
        "id": "5A5TZTYJ2Kae"
      },
      "source": [
        "## Tìm N số lớn nhất trong dãy\n",
        "\n",
        "Viết hàm trả về N số lớn nhất trong dãy cho trước\n",
        "\n",
        "* Input: 4, 5, 1, 2, 9 và N=2\n",
        "* Output: 9, 5"
      ]
    },
    {
      "cell_type": "code",
      "metadata": {
        "id": "K2ydHtRR3ebu"
      },
      "source": [
        "def findNLargestElements(N, arr):\n",
        "  arr.sort()"
      ],
      "execution_count": null,
      "outputs": []
    },
    {
      "cell_type": "markdown",
      "metadata": {
        "id": "xXSKpzjJ2Wt4"
      },
      "source": [
        "## Tính tổng tích luỹ\n",
        "\n",
        "Viết hàm tính tổng tích luỹ của một dãy. \n",
        "\n",
        "Phần tử thứ $i$ của dãy đầu ra bằng tổng các phần tử $i, i-1, i-2, ...$ của dãy đầu vào\n",
        "\n",
        "* Input: 10, 20, 30, 40, 50\n",
        "* Output: 10, 30, 60, 100, 150"
      ]
    },
    {
      "cell_type": "code",
      "metadata": {
        "id": "RfQ2N2Ty3oLy"
      },
      "source": [
        "def calcCumulativeSum(N, arr):\n",
        "  # code của bạn ở đây"
      ],
      "execution_count": null,
      "outputs": []
    },
    {
      "cell_type": "markdown",
      "metadata": {
        "id": "a72UHNxW3OmA"
      },
      "source": [
        "## Xoá một số phần tử của dãy\n",
        "\n",
        "Viết hàm xoá một số phần tử của dãy\n",
        "\n",
        "* Input: 12, 15, 3, 10 và 12 và 3 là các phần tử cần xoá\n",
        "* Output: 15, 10"
      ]
    },
    {
      "cell_type": "code",
      "metadata": {
        "id": "PkwKGvI74AHU"
      },
      "source": [
        "def removeElemetns(arrInput, arrRemove):\n",
        "  for i in arrRemove:\n",
        "    if(i in arrInput)==True:\n",
        "      arrInput.remove(i)"
      ],
      "execution_count": 37,
      "outputs": []
    }
  ]
}